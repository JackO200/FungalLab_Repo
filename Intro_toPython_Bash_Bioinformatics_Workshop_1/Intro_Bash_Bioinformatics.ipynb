{
 "cells": [
  {
   "cell_type": "markdown",
   "id": "54dc41a3",
   "metadata": {},
   "source": [
    "# Intro to Bash & Bioinformatics: Start of Your Wizard Journey\n",
    "\n",
    "Tired of having to farm out your gene seqs to Todd down the street, never fear, bioinformatics is here! Following along thorugh this notebook, you can learn how to process your biological data from raw to processed awesomeness."
   ]
  },
  {
   "cell_type": "markdown",
   "id": "6228e78b",
   "metadata": {},
   "source": [
    "# Chapters:\n",
    "\n",
    "### Ch. 1: Bash, Terminal, and Becoming a Terminal Ninja 🥷\n",
    "\n",
    "### Ch. 2: So What, How Does This Help in Bioinformatics?\n",
    "\n",
    "### Ch. 3: Putting it All Together: A Crash Course in Metabolite Predicition!"
   ]
  },
  {
   "cell_type": "markdown",
   "id": "4906783b",
   "metadata": {},
   "source": [
    "# Ch. 1: Bash, Terminal, and Becoming a Terminal Ninja 🥷\n",
    "Traditionally, we are biologists try to spend as *little* time in front of a computer as possible. However, in order to keep ourselves employed from the terror that our AI overlords will eventually inflict upon us, or just to stick to Todd down the street, learning how to use your terminal is <span style=\"color: #FFAD69;\">**CRUCIAL**</span>."
   ]
  },
  {
   "cell_type": "code",
   "execution_count": null,
   "id": "4702301f",
   "metadata": {
    "vscode": {
     "languageId": "plaintext"
    }
   },
   "outputs": [],
   "source": []
  },
  {
   "cell_type": "code",
   "execution_count": null,
   "id": "ea9deb6c",
   "metadata": {
    "vscode": {
     "languageId": "plaintext"
    }
   },
   "outputs": [],
   "source": []
  },
  {
   "cell_type": "code",
   "execution_count": null,
   "id": "8f141875",
   "metadata": {
    "vscode": {
     "languageId": "plaintext"
    }
   },
   "outputs": [],
   "source": []
  },
  {
   "cell_type": "code",
   "execution_count": null,
   "id": "ea98316b",
   "metadata": {
    "vscode": {
     "languageId": "plaintext"
    }
   },
   "outputs": [],
   "source": []
  }
 ],
 "metadata": {
  "language_info": {
   "name": "python"
  }
 },
 "nbformat": 4,
 "nbformat_minor": 5
}
